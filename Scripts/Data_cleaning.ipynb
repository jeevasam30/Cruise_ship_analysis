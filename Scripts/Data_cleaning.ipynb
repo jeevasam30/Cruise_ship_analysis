{
 "cells": [
  {
   "cell_type": "markdown",
   "metadata": {},
   "source": [
    "# Data Cleaning and Exploratory Data Analysis (EDA)\n",
    "\n",
    "This notebook performs data cleaning and exploratory data analysis (EDA) on the cruise ship dataset. It includes a function to clean the data for both Vessel 1 and Vessel 2, which can then be used in other notebooks for specific analyses.\n"
   ]
  },
  {
   "cell_type": "markdown",
   "metadata": {},
   "source": [
    "\n",
    "\n",
    "**Note:** If you are interested in the EDA, please run the cells below. For data cleaning, please go to the data cleaning sections (this cell should be excuted for the further process).\n"
   ]
  },
  {
   "cell_type": "markdown",
   "metadata": {},
   "source": [
    "### Exploratory Data Analysis (EDA)\n",
    "\n",
    "\n"
   ]
  },
  {
   "cell_type": "markdown",
   "metadata": {},
   "source": [
    "#### Instructions:\n",
    "1. Please set the correct path for the dataset file in the cell below.\n",
    "2. Ensure that the file path is correct for your local system.\n",
    "\n",
    "The following cells will perform EDA on the data for both vessels. The analysis includes:\n",
    "1. Plotting the number of missing values per column.\n",
    "2. Plotting histograms for numerical columns.\n",
    "3. Plotting boxplots for numerical columns.\n",
    "4. Creating a correlation heatmap."
   ]
  },
  {
   "cell_type": "code",
   "execution_count": 2,
   "metadata": {},
   "outputs": [],
   "source": [
    "file_path = r\"C:\\Users\\jeeva\\Downloads\\Cruises_performance_analysis\\Cruise_ship_analysis\\data\\data.csv\""
   ]
  },
  {
   "cell_type": "code",
   "execution_count": null,
   "metadata": {},
   "outputs": [],
   "source": [
    "\n",
    "# Import necessary utilities.py for helper functions\n",
    "\n",
    "from utilities import *\n",
    "\n",
    "\n",
    "\n",
    "# Load the dataset\n",
    "try:\n",
    "    data = load_data(file_path)\n",
    "    print(\"Data loaded successfully.\")\n",
    "except Exception as e:\n",
    "    print(f\"Error loading data: {e}\")\n",
    "\n",
    "# Clean the data\n",
    "vessel1_data = data[data['Vessel Name'] == 'Vessel 1']\n",
    "vessel2_data= data[data['Vessel Name'] == 'Vessel 2']\n",
    "\n",
    "# Perform EDA for vessel 1\n",
    "plot_missing_values(vessel1_data, 'Number of Missing Values per Column Vessel1 data')\n",
    "# Perform EDA for vessel 2\n",
    "plot_missing_values(vessel2_data, 'Number of Missing Values per Column Vessel2 data')\n",
    "\n",
    "# Plotting for Vessel 1\n",
    "#plot_histograms(vessel1_data, 'Histograms for Vessel 1 Data')\n",
    "plot_boxplots(vessel1_data, 'Boxplots for Vessel 1 Data')\n",
    "plot_correlation_heatmap(vessel1_data, 'Correlation Heatmap for Vessel 1 Data')\n",
    "\n",
    "# Plotting for Vessel 2\n",
    "#plot_histograms(vessel2_data, 'Histograms for Vessel 2 Data')\n",
    "plot_boxplots(vessel2_data, 'Boxplots for Vessel 2 Data')\n",
    "plot_correlation_heatmap(vessel2_data, 'Correlation Heatmap for Vessel 2 Data')"
   ]
  },
  {
   "cell_type": "markdown",
   "metadata": {},
   "source": [
    "### EDA Summary\n",
    "*Correlations*\n",
    "\n",
    "*Assumptions*:\n",
    "Diesel Generator Power and Main Engine Fuel Flow Rate: Reflects essential energy conversion efficiency.\n",
    "\n",
    "Diesel Power Generators and Propulsion, Speed, Power Service: Critical support for ship-wide power demands.\n",
    "\n",
    "Sea Temperature and HVAC Chillers Power: Illustrates increased cooling demand with rising temperatures.\n",
    "\n",
    "Scrubber Power with Propulsion and Speed: Highlights enhanced scrubber system usage during high propulsion scenarios.\n",
    "\n",
    "Power Service with Propulsion and Speed: Shows heightened power service requirements during increased propulsion operations.\n",
    "\n",
    "Power Service and Boiler Flow Rates: Indicates an integrated energy management system optimizing efficiency.\n",
    "\n",
    "Scrubber Power and Boiler Flow Rates: Boilers reduce scrubber power demand by generating steam.\n",
    "\n",
    "Diesel Generator Power and Boiler Flow Rates: Intensive boiler use reduces reliance on diesel generators.\n",
    "\n",
    "Propulsion Power and Boiler Flow Rates: High propulsion demands prioritize main engines over boilers.\n",
    "\n",
    "Speed Through Water and Boiler Flow Rates: Increased speeds reduce boiler use for auxiliary functions.\n",
    "\n",
    "Main Engine Fuel Flow Rates and Boiler Flow Rates: Higher fuel consumption for propulsion decreases boiler operations.\n",
    "\n",
    "\n",
    "*Selected Columns and Missing Value Handling*\n",
    "\n",
    "Chosen Columns: Essential for categorizing data by vessel and time intervals, monitoring power consumption, and tracking operational efficiency.\n",
    "\n",
    "Missing Values Handling Strategy: Filling missing values with the mean ensures comprehensive analysis and preserves data integrity.\n",
    "Negative Correlations\n",
    "\n"
   ]
  },
  {
   "cell_type": "markdown",
   "metadata": {},
   "source": [
    "## Data Cleaning Function\n",
    "\n",
    "We will take the help a function clean_data from utilities that takes in the raw data and returns cleaned data for Vessel 1 and Vessel 2.\n"
   ]
  },
  {
   "cell_type": "markdown",
   "metadata": {},
   "source": [
    "#### Instructions:\n",
    "1. Please set the correct path for the dataset file in the cell below.\n",
    "2. Ensure that the file path is correct for your local system."
   ]
  },
  {
   "cell_type": "code",
   "execution_count": 3,
   "metadata": {},
   "outputs": [],
   "source": [
    "file_path = r\"C:\\Users\\jeeva\\Downloads\\Cruises_performance_analysis\\Cruise_ship_analysis\\data\\data.csv\""
   ]
  },
  {
   "cell_type": "code",
   "execution_count": 4,
   "metadata": {},
   "outputs": [
    {
     "name": "stdout",
     "output_type": "stream",
     "text": [
      "Data cleaning complete. Cleaned data saved for Vessel 1 and Vessel 2.\n"
     ]
    }
   ],
   "source": [
    "# Import necessary utilities.py for helper functions\n",
    "\n",
    "from utilities import *\n",
    "\n",
    "# Define the necessary columns and date columns\n",
    "necessary_columns = [\n",
    "    'Start Time', 'End Time', 'Vessel Name',\n",
    "    'Power Galley 1 (MW)', 'Power Galley 2 (MW)', 'Power Service (MW)',\n",
    "    'HVAC Chiller 1 Power (MW)', 'HVAC Chiller 2 Power (MW)', 'HVAC Chiller 3 Power (MW)',\n",
    "    'Scrubber Power (MW)', 'Sea Temperature (Celsius)',\n",
    "    'Boiler 1 Fuel Flow Rate (L/h)', 'Boiler 2 Fuel Flow Rate (L/h)',\n",
    "    'Incinerator 1 Fuel Flow Rate (L/h)', 'Diesel Generator 1 Power (MW)',\n",
    "    'Diesel Generator 2 Power (MW)', 'Diesel Generator 3 Power (MW)',\n",
    "    'Diesel Generator 4 Power (MW)',\n",
    "    'Speed Over Ground (knots)', 'Speed Through Water (knots)',\n",
    "    'Propulsion Power (MW)', 'Port Side Propulsion Power (MW)',\n",
    "    'Starboard Side Propulsion Power (MW)', 'Bow Thruster 1 Power (MW)',\n",
    "    'Bow Thruster 2 Power (MW)', 'Bow Thruster 3 Power (MW)',\n",
    "    'Stern Thruster 1 Power (MW)', 'Stern Thruster 2 Power (MW)',\n",
    "    'Main Engine 1 Fuel Flow Rate (kg/h)', 'Main Engine 2 Fuel Flow Rate (kg/h)',\n",
    "    'Main Engine 3 Fuel Flow Rate (kg/h)', 'Main Engine 4 Fuel Flow Rate (kg/h)'\n",
    "]\n",
    "\n",
    "date_columns = ['Start Time', 'End Time']\n",
    "\n",
    "# Load the dataset\n",
    "data = load_data(file_path)\n",
    "\n",
    "data =filter_columns(data, necessary_columns)\n",
    "\n",
    "\n",
    "# Clean the data\n",
    "vessel1_data_cleaned = clean_data(data[data['Vessel Name'] == 'Vessel 1'], necessary_columns, date_columns)\n",
    "vessel2_data_cleaned = clean_data(data[data['Vessel Name'] == 'Vessel 2'], necessary_columns, date_columns)\n",
    "\n",
    "\n",
    "\n",
    "# Save the cleaned data to CSV files for use in other notebooks\n",
    "vessel1_data_cleaned.to_csv('../data/vessel1_cleaned.csv', index=False)\n",
    "vessel2_data_cleaned.to_csv('../data/vessel2_cleaned.csv', index=False)\n",
    "\n",
    "print(\"Data cleaning complete. Cleaned data saved for Vessel 1 and Vessel 2.\")\n"
   ]
  },
  {
   "cell_type": "markdown",
   "metadata": {},
   "source": [
    "_____"
   ]
  }
 ],
 "metadata": {
  "kernelspec": {
   "display_name": "base",
   "language": "python",
   "name": "python3"
  },
  "language_info": {
   "codemirror_mode": {
    "name": "ipython",
    "version": 3
   },
   "file_extension": ".py",
   "mimetype": "text/x-python",
   "name": "python",
   "nbconvert_exporter": "python",
   "pygments_lexer": "ipython3",
   "version": "3.11.4"
  }
 },
 "nbformat": 4,
 "nbformat_minor": 2
}
